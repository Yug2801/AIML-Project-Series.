{
  "nbformat": 4,
  "nbformat_minor": 0,
  "metadata": {
    "colab": {
      "provenance": []
    },
    "kernelspec": {
      "name": "python3",
      "display_name": "Python 3"
    },
    "language_info": {
      "name": "python"
    }
  },
  "cells": [
    {
      "cell_type": "code",
      "execution_count": 2,
      "metadata": {
        "id": "61guFYLcuEbY"
      },
      "outputs": [],
      "source": [
        "import random\n",
        "\n"
      ]
    },
    {
      "cell_type": "code",
      "source": [
        "class Chatbot:\n",
        "    def __init__(self):\n",
        "        self.memory = {}\n",
        "\n",
        "    def greet(self):\n",
        "        return \"Hello! How can I assist you today?\"\n",
        "\n",
        "    def basic_questions(self, question):\n",
        "        responses = {\n",
        "            \"How are you?\": [\"I'm doing well, thank you!\", \"Feeling great today!\"],\n",
        "            \"What's your name?\": [\"I'm just a humble chatbot.\", \"You can call me Babes.\"],\n",
        "            \"What can you do?\": [\"I can assist you with various questions and tasks.\", \"I'm here to help with whatever you need!\"],\n",
        "            \"Where are you from?\": [\"I exist in the digital realm, so I don't have a physical location.\", \"I reside in the world wide web!\"],\n",
        "            \"Who created you?\": [\"I was created by Yug Modi.\"]\n",
        "        }\n",
        "        if question in responses:\n",
        "            return random.choice(responses[question])\n",
        "        else:\n",
        "            return \"I'm sorry, I don't have an answer to that question.\"\n",
        "\n",
        "    def farewell(self):\n",
        "        return \"Goodbye! Have a great day!\"\n",
        "\n",
        "    def remember(self, user_input, response):\n",
        "        self.memory[user_input] = response\n",
        "\n",
        "    def recall(self, user_input):\n",
        "        if user_input in self.memory:\n",
        "            return self.memory[user_input]\n",
        "        else:\n",
        "            return \"I'm sorry, I don't remember talking about that.\"\n",
        "\n",
        "    def user_interaction(self):\n",
        "        questions = [\"What's your favorite color?\", \"Do you have any hobbies?\", \"What's your favorite food?\"]\n",
        "        responses = []\n",
        "        for question in questions:\n",
        "            response = input(question + \"\\n\")\n",
        "            responses.append(response)\n",
        "        return responses\n",
        "\n",
        "    def handle_error(self):\n",
        "        return \"I'm sorry, I didn't understand that. Can you please rephrase or ask another question?\"\n",
        "\n"
      ],
      "metadata": {
        "id": "eNNJyRlJvJNh"
      },
      "execution_count": 3,
      "outputs": []
    },
    {
      "cell_type": "code",
      "source": [
        "\n",
        "chatbot = Chatbot()\n",
        "\n",
        "print(chatbot.greet())\n",
        "\n",
        "responses = chatbot.user_interaction()\n",
        "for response in responses:\n",
        "    print(\"You said:\", response)\n"
      ],
      "metadata": {
        "colab": {
          "base_uri": "https://localhost:8080/"
        },
        "id": "aX8fUOdyvOIM",
        "outputId": "f27e444a-8cb3-49bb-b130-065b4f681c68"
      },
      "execution_count": 4,
      "outputs": [
        {
          "output_type": "stream",
          "name": "stdout",
          "text": [
            "Hello! How can I assist you today?\n",
            "What's your favorite color?\n",
            "white\n",
            "Do you have any hobbies?\n",
            "yes\n",
            "What's your favorite food?\n",
            "momo\n",
            "You said: white\n",
            "You said: yes\n",
            "You said: momo\n"
          ]
        }
      ]
    },
    {
      "cell_type": "code",
      "source": [
        "\n",
        "while True:\n",
        "    print(\"How can I assist you!\")\n",
        "    user_input = input().strip()\n",
        "    if user_input.lower() == 'bye':\n",
        "        print(chatbot.farewell())\n",
        "        break\n",
        "    elif user_input in chatbot.memory:\n",
        "        print(chatbot.recall(user_input))\n",
        "    elif user_input.endswith('?'):\n",
        "        print(chatbot.basic_questions(user_input))\n",
        "    elif user_input:\n",
        "        chatbot.handle_error()\n",
        "    else:\n",
        "\n",
        "        print(\"I'm sorry, I didn't get that. Can you please repeat?\")"
      ],
      "metadata": {
        "colab": {
          "base_uri": "https://localhost:8080/"
        },
        "id": "WglUZvB7vQbP",
        "outputId": "0363777f-88cb-4623-ca9e-3f994b6de2b1"
      },
      "execution_count": 6,
      "outputs": [
        {
          "output_type": "stream",
          "name": "stdout",
          "text": [
            "How can I assist you!\n",
            "What's your name?\n",
            "You can call me Babes.\n",
            "How can I assist you!\n",
            "What can you do?\n",
            "I can assist you with various questions and tasks.\n",
            "How can I assist you!\n",
            "bye\n",
            "Goodbye! Have a great day!\n"
          ]
        }
      ]
    }
  ]
}