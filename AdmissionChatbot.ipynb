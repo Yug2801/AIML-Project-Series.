{
  "nbformat": 4,
  "nbformat_minor": 0,
  "metadata": {
    "colab": {
      "provenance": []
    },
    "kernelspec": {
      "name": "python3",
      "display_name": "Python 3"
    },
    "language_info": {
      "name": "python"
    }
  },
  "cells": [
    {
      "cell_type": "code",
      "execution_count": 7,
      "metadata": {
        "id": "L-U9Zq_t3Fjb"
      },
      "outputs": [],
      "source": [
        "import random\n",
        "from sklearn.feature_extraction.text import TfidfVectorizer\n",
        "from sklearn.ensemble import RandomForestClassifier\n"
      ]
    },
    {
      "cell_type": "code",
      "source": [
        "\n",
        "class AdmissionChatbot:\n",
        "    def __init__(self):\n",
        "        self.memory = {}\n",
        "        self.vectorizer = TfidfVectorizer()\n",
        "        self.model = RandomForestClassifier()\n",
        "\n",
        "    def greet(self):\n",
        "        return \"Hello! I'm here to assist you with your college admission queries. How can I help you today?\"\n",
        "\n",
        "    def admission_questions(self, question, context=None):\n",
        "        responses = {\n",
        "             \"admission_requirements\": \"The admission requirements typically include GPA, standardized test scores (SAT/ACT), letters of recommendation, and essays.\",\n",
        "    \"application_deadline\": \"Application deadlines vary by college and program. It's important to check the specific deadlines for the colleges you're interested in.\",\n",
        "    \"application_process\": \"Certainly! I can guide you through the application process, including filling out forms, writing essays, and gathering required documents.\",\n",
        "    \"documents_to_submit\": \"You'll usually need to submit transcripts, standardized test scores, letters of recommendation, essays, and any other required documents specified by the college.\",\n",
        "    \"application_status\": \"You can typically check your application status through the college's online portal or by contacting the admissions office directly.\",\n",
        "    \"financial_aid\": \"Yes, many colleges offer financial aid to eligible students. This can include scholarships, grants, loans, and work-study programs.\",\n",
        "    \"acceptance_rate\": \"Acceptance rates vary widely among colleges and programs. Some colleges are highly selective, while others have higher acceptance rates.\",\n",
        "    \"interviews_required\": \"Interview requirements vary by college and program. Some colleges may require interviews as part of the admission process, while others do not.\",\n",
        "    \"transfer_students\": \"Yes, many colleges accept transfer students. Transfer requirements may vary, so it's important to check with the specific college you're interested in.\",\n",
        "    \"special_programs_majors\": \"Yes, many colleges offer special programs or majors, such as honors programs, study abroad opportunities, and interdisciplinary majors.\",\n",
        "    \"student_faculty_ratio\": \"The student-to-faculty ratio varies among colleges. A lower ratio typically means smaller class sizes and more personalized attention from professors.\",\n",
        "    \"supplementary_materials\": \"Yes, many colleges allow applicants to submit supplementary materials, such as portfolios, research papers, or creative work.\",\n",
        "    \"admission_quotas_preferences\": \"Some colleges may have admission quotas or preferences for certain groups of students, such as athletes, legacy applicants, or underrepresented minorities.\",\n",
        "    \"average_sat_act_score\": \"The average SAT/ACT score of admitted students varies by college and program. It's important to aim for scores that align with the college's admissions standards.\",\n",
        "    \"application_fee\": \"Yes, many colleges require an application fee to cover processing costs. However, fee waivers are often available for eligible students.\",\n",
        "    \"early_decision_early_action\": \"Yes, many colleges offer early decision and/or early action options. These programs allow students to apply earlier in the admissions cycle and receive a decision sooner.\",\n",
        "    \"average_gpa_admitted_students\": \"The average GPA of admitted students varies by college and program. It's important to strive for a competitive GPA that meets or exceeds the college's expectations.\",\n",
        "    \"special_requirements_international_students\": \"Yes, international students may have additional requirements, such as English proficiency tests, visa documentation, and financial certification.\",\n",
        "    \"defer_admission\": \"Yes, many colleges allow admitted students to defer their admission to a later term. However, deferral policies vary by college, so it's important to check the specific requirements.\",\n",
        "    \"campus_culture\": \"Campus culture varies among colleges. Some colleges have a strong emphasis on academics, while others prioritize extracurricular activities, diversity, or community engagement.\"\n",
        "\n",
        "        }\n",
        "        if context:\n",
        "            if context in responses:\n",
        "                return responses[context]\n",
        "\n",
        "        if question in responses:\n",
        "            return responses[question]\n",
        "        else:\n",
        "            return \" \"\n",
        "\n",
        "    def farewell(self):\n",
        "        return \"Goodbye! Feel free to return if you have more questions about college admissions.\"\n",
        "\n",
        "    def remember(self, user_input, response, context=None):\n",
        "        if context:\n",
        "            self.memory[user_input] = {\"response\": response, \"context\": context}\n",
        "        else:\n",
        "            self.memory[user_input] = {\"response\": response}\n",
        "\n",
        "    def recall(self, user_input):\n",
        "        if user_input in self.memory:\n",
        "            return self.memory[user_input][\"response\"]\n",
        "\n",
        "\n",
        "    def user_interaction(self):\n",
        "        questions = [\n",
        "             \"What are the admission requirements?\",\n",
        "    \"When is the application deadline?\",\n",
        "    \"Can you help me with the application process?\",\n",
        "    \"What documents do I need to submit?\",\n",
        "    \"How can I check my application status?\",\n",
        "    \"Is financial aid available?\",\n",
        "    \"What is the average acceptance rate?\",\n",
        "    \"Are interviews required for admission?\",\n",
        "    \"Can I apply as a transfer student?\",\n",
        "    \"Are there any special programs or majors available?\",\n",
        "    \"What is the student-to-faculty ratio?\",\n",
        "    \"Can I submit supplementary materials with my application?\",\n",
        "    \"Are there any admission quotas or preferences?\",\n",
        "    \"What is the average SAT/ACT score of admitted students?\",\n",
        "    \"Is there an application fee?\",\n",
        "    \"Can I apply for early decision or early action?\",\n",
        "    \"What is the average GPA of admitted students?\",\n",
        "    \"Are there any special requirements for international students?\",\n",
        "    \"Can I defer my admission to a later term?\",\n",
        "    \"What is the campus culture like?\"\n",
        "        ]\n",
        "        responses = []\n",
        "        for question in questions:\n",
        "            response = self.admission_questions(question)\n",
        "            responses.append(response)\n",
        "            self.remember(question, response)\n",
        "        return responses\n",
        "\n",
        "    def train_model(self, questions, contexts):\n",
        "        X = self.vectorizer.fit_transform(questions)\n",
        "        self.model.fit(X, contexts)\n",
        "\n",
        "    def predict_context(self, question):\n",
        "        features = self.vectorizer.transform([question])\n",
        "        predicted_context = self.model.predict(features)\n",
        "        return predicted_context[0]\n",
        "\n",
        "    def handle_error(self):\n",
        "        return \"I'm sorry, I didn't understand that. Can you please rephrase or ask another question?\"\n"
      ],
      "metadata": {
        "id": "tCzhN8Re5PVM"
      },
      "execution_count": 8,
      "outputs": []
    },
    {
      "cell_type": "code",
      "source": [],
      "metadata": {
        "id": "K92ZCqXE5TIj"
      },
      "execution_count": 8,
      "outputs": []
    },
    {
      "cell_type": "code",
      "source": [
        "\n",
        "admission_chatbot = AdmissionChatbot()\n",
        "\n",
        "\n",
        "print(admission_chatbot.greet())\n",
        "\n",
        "responses = admission_chatbot.user_interaction()\n",
        "for response in responses:\n",
        "    print(response)\n",
        "\n",
        "questions = [\n",
        "    \"What are the admission requirements?\",\n",
        "    \"When is the application deadline?\",\n",
        "    \"Can you help me with the application process?\",\n",
        "    \"What documents do I need to submit?\",\n",
        "    \"How can I check my application status?\",\n",
        "    \"Is financial aid available?\",\n",
        "    \"What is the average acceptance rate?\",\n",
        "    \"Are interviews required for admission?\",\n",
        "    \"Can I apply as a transfer student?\",\n",
        "    \"Are there any special programs or majors available?\",\n",
        "    \"What is the student-to-faculty ratio?\",\n",
        "    \"Can I submit supplementary materials with my application?\",\n",
        "    \"Are there any admission quotas or preferences?\",\n",
        "    \"What is the average SAT/ACT score of admitted students?\",\n",
        "    \"Is there an application fee?\",\n",
        "    \"Can I apply for early decision or early action?\",\n",
        "    \"What is the average GPA of admitted students?\",\n",
        "    \"Are there any special requirements for international students?\",\n",
        "    \"Can I defer my admission to a later term?\",\n",
        "    \"What is the campus culture like?\"\n",
        "]\n",
        "contexts = [ \"admission_requirements\",\n",
        "    \"application_deadline\",\n",
        "    \"application_process\",\n",
        "    \"documents_to_submit\",\n",
        "    \"application_status\",\n",
        "    \"financial_aid\",\n",
        "    \"acceptance_rate\",\n",
        "    \"interviews_required\",\n",
        "    \"transfer_students\",\n",
        "    \"special_programs_majors\",\n",
        "    \"student_faculty_ratio\",\n",
        "    \"supplementary_materials\",\n",
        "    \"admission_quotas_preferences\",\n",
        "    \"average_sat_act_score\",\n",
        "    \"application_fee\",\n",
        "    \"early_decision_early_action\",\n",
        "    \"average_gpa_admitted_students\",\n",
        "    \"special_requirements_international_students\",\n",
        "    \"defer_admission\",\n",
        "    \"campus_culture\"]\n",
        "admission_chatbot.train_model(questions, contexts)\n"
      ],
      "metadata": {
        "colab": {
          "base_uri": "https://localhost:8080/"
        },
        "id": "7jfaxozD5TOU",
        "outputId": "b1cee20f-16cc-4ad3-df03-9e878fdc31c8"
      },
      "execution_count": 9,
      "outputs": [
        {
          "output_type": "stream",
          "name": "stdout",
          "text": [
            "Hello! I'm here to assist you with your college admission queries. How can I help you today?\n",
            " \n",
            " \n",
            " \n",
            " \n",
            " \n",
            " \n",
            " \n",
            " \n",
            " \n",
            " \n",
            " \n",
            " \n",
            " \n",
            " \n",
            " \n",
            " \n",
            " \n",
            " \n",
            " \n",
            " \n"
          ]
        }
      ]
    },
    {
      "cell_type": "code",
      "source": [
        "\n",
        "context = None\n",
        "while True:\n",
        "    print(\"Hello! How can I assist you?\")\n",
        "    user_input = input().strip()\n",
        "    if user_input.lower() == 'bye':\n",
        "        print(admission_chatbot.farewell())\n",
        "        break\n",
        "    elif user_input.endswith('?'):\n",
        "        predicted_context = admission_chatbot.predict_context(user_input)\n",
        "        response = admission_chatbot.admission_questions(user_input, predicted_context)\n",
        "        print(response)\n",
        "        admission_chatbot.remember(user_input, response, predicted_context)\n",
        "    elif user_input:\n",
        "        print(admission_chatbot.handle_error())\n",
        "    else:\n",
        "        print(\"I'm sorry, I didn't get that. Can you please repeat?\")\n"
      ],
      "metadata": {
        "colab": {
          "base_uri": "https://localhost:8080/"
        },
        "id": "AlP_DJz85XNw",
        "outputId": "2e3a676e-61b9-4279-9617-6db57f06fb00"
      },
      "execution_count": 10,
      "outputs": [
        {
          "output_type": "stream",
          "name": "stdout",
          "text": [
            "Hello! How can I assist you?\n",
            "What is the campus culture like?\n",
            "Campus culture varies among colleges. Some colleges have a strong emphasis on academics, while others prioritize extracurricular activities, diversity, or community engagement.\n",
            "Hello! How can I assist you?\n",
            "bye\n",
            "Goodbye! Feel free to return if you have more questions about college admissions.\n"
          ]
        }
      ]
    }
  ]
}